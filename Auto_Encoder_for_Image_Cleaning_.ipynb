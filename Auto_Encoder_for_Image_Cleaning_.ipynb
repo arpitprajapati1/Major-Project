{
  "nbformat": 4,
  "nbformat_minor": 0,
  "metadata": {
    "colab": {
      "name": "Auto_Encoder_for Image Cleaning .ipynb",
      "private_outputs": true,
      "provenance": [],
      "collapsed_sections": [],
      "authorship_tag": "ABX9TyMeV0weMfZCz/zdCaAKvnqX",
      "include_colab_link": true
    },
    "kernelspec": {
      "name": "python3",
      "display_name": "Python 3"
    }
  },
  "cells": [
    {
      "cell_type": "markdown",
      "metadata": {
        "id": "view-in-github",
        "colab_type": "text"
      },
      "source": [
        "<a href=\"https://colab.research.google.com/github/arpitprajapati1/Major-Project/blob/main/Auto_Encoder_for_Image_Cleaning_.ipynb\" target=\"_parent\"><img src=\"https://colab.research.google.com/assets/colab-badge.svg\" alt=\"Open In Colab\"/></a>"
      ]
    },
    {
      "cell_type": "markdown",
      "metadata": {
        "id": "iCFoVVwXoX87"
      },
      "source": [
        "# ***`Major Project for Shri Ram Institute of Science and Technology`***![download.png](data:image/png;base64,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)"
      ]
    },
    {
      "cell_type": "code",
      "metadata": {
        "id": "wczBcHO-TeO5"
      },
      "source": [
        "import tensorflow as tf "
      ],
      "execution_count": null,
      "outputs": []
    },
    {
      "cell_type": "code",
      "metadata": {
        "id": "0RY1xeQlTuc8"
      },
      "source": [
        "import pandas as pd\n",
        "import matplotlib.pyplot as plt\n",
        "import seaborn as sns\n",
        "import random\n",
        "import numpy as np"
      ],
      "execution_count": null,
      "outputs": []
    },
    {
      "cell_type": "code",
      "metadata": {
        "id": "ciSaPOD1T3mo"
      },
      "source": [
        "(X_train,Y_train),(X_test,Y_test) = tf.keras.datasets.fashion_mnist.load_data()"
      ],
      "execution_count": null,
      "outputs": []
    },
    {
      "cell_type": "code",
      "metadata": {
        "id": "nrIP_qtiT6tZ"
      },
      "source": [
        "plt.imshow(X_train[7],cmap = 'gray')"
      ],
      "execution_count": null,
      "outputs": []
    },
    {
      "cell_type": "code",
      "metadata": {
        "id": "KlRFcH05UAL2"
      },
      "source": [
        "X_train.shape"
      ],
      "execution_count": null,
      "outputs": []
    },
    {
      "cell_type": "code",
      "metadata": {
        "id": "xIfjGciuUKF9"
      },
      "source": [
        "X_test.shape"
      ],
      "execution_count": null,
      "outputs": []
    },
    {
      "cell_type": "code",
      "metadata": {
        "id": "L8gvuwRoUVSJ"
      },
      "source": [
        "Y_train.shape"
      ],
      "execution_count": null,
      "outputs": []
    },
    {
      "cell_type": "code",
      "metadata": {
        "id": "6CQFjrVwUfLQ"
      },
      "source": [
        "Y_test.shape"
      ],
      "execution_count": null,
      "outputs": []
    },
    {
      "cell_type": "code",
      "metadata": {
        "id": "Jt3WRC0SUgLR"
      },
      "source": [
        "i=random.randint(1,60000)\n",
        "plt.imshow(X_train[i],cmap = 'gray')"
      ],
      "execution_count": null,
      "outputs": []
    },
    {
      "cell_type": "code",
      "metadata": {
        "id": "i7KNXZthUquB"
      },
      "source": [
        "label = Y_train[i]\n",
        "label"
      ],
      "execution_count": null,
      "outputs": []
    },
    {
      "cell_type": "code",
      "metadata": {
        "id": "81C5_lNeU0OQ"
      },
      "source": [
        "\"\"\"\n",
        "W_grid = 20\n",
        "L_grid = 20\n",
        "fig,axes = plt.subplots(L_grid,W_grid,figsize = (17,17))\n",
        "axes = axes.ravel()\n",
        "m_training = len(X_train)\n",
        "for i in np.arange(0,W_grid*L_grid):\n",
        "    index = np.random.randint(0,m_training)\n",
        "    axes[i].imshow(X_train[index])\n",
        "    axes[i].set_title(Y_train[index],fontsize = 0)\n",
        "    axes[i].axis('off')\n",
        "    \"\"\"\n",
        "    "
      ],
      "execution_count": null,
      "outputs": []
    },
    {
      "cell_type": "code",
      "metadata": {
        "id": "77TiFC27VAHI"
      },
      "source": [
        "# normalize data\n",
        "X_train = X_train/255\n",
        "X_test = X_test/225\n",
        "X_test.shape \n",
        "#X_train"
      ],
      "execution_count": null,
      "outputs": []
    },
    {
      "cell_type": "code",
      "metadata": {
        "id": "vbiFdoSuVBXM"
      },
      "source": [
        "# add some noise \n",
        "noise_factor = 0.3\n",
        "noisy_data = []\n",
        "for img in X_train:\n",
        "    noisy_image = img + noise_factor * np.random.randn(*img.shape)\n",
        "    noisy_image = np.clip(noisy_image, 0,1)\n",
        "    noisy_data.append(noisy_image)\n",
        "    \n",
        "noise_train_data= np.array(noisy_data)\n",
        "noise_train_data.shape"
      ],
      "execution_count": null,
      "outputs": []
    },
    {
      "cell_type": "code",
      "metadata": {
        "id": "mNNTjkJiVEhA"
      },
      "source": [
        "plt.imshow(noise_train_data[21],cmap = 'gray')"
      ],
      "execution_count": null,
      "outputs": []
    },
    {
      "cell_type": "code",
      "metadata": {
        "id": "gDj9kMIqVIWC"
      },
      "source": [
        "noisy_test_dataset= []\n",
        "for img in X_test:\n",
        "    noisy_image = img + noise_factor*np.random.randn(*img.shape)\n",
        "    new_noisy = np.clip(noisy_image, 0,1)\n",
        "    noisy_test_dataset.append(noisy_image) \n",
        "noise_test_data= np.array(noisy_data)\n",
        "noise_test_data.shape"
      ],
      "execution_count": null,
      "outputs": []
    },
    {
      "cell_type": "code",
      "metadata": {
        "id": "NzwZWFFAhdLv"
      },
      "source": [
        "plt.imshow(noise_test_data[22],cmap = 'gray')"
      ],
      "execution_count": null,
      "outputs": []
    },
    {
      "cell_type": "markdown",
      "metadata": {
        "id": "gHobbQAgpuwH"
      },
      "source": [
        "# Making of Model \n",
        "\n",
        "---\n",
        "\n"
      ]
    },
    {
      "cell_type": "code",
      "metadata": {
        "id": "xskg4QOQVjBb"
      },
      "source": [
        "autoencoder = tf.keras.models.Sequential()\n",
        "autoencoder.add(tf.keras.layers.Conv2D(filters = 16 , kernel_size = 3,strides = 1,padding = 'same',input_shape =(28,28,1)))\n",
        "autoencoder.add(tf.keras.layers.Conv2D(filters = 8 , kernel_size = 3,strides = 1,padding = 'same'))\n",
        "autoencoder.add(tf.keras.layers.Conv2D(filters = 8 , kernel_size = 3,strides = 1,padding = 'same'))\n",
        "#decoder\n",
        "autoencoder.add(tf.keras.layers.Conv2DTranspose(filters = 16 , kernel_size = 3,strides = 2,padding = 'same'))\n",
        "autoencoder.add(tf.keras.layers.Conv2D(filters = 1 , kernel_size = 3,strides = 2,activation = 'sigmoid',padding = 'same'))\n"
      ],
      "execution_count": null,
      "outputs": []
    },
    {
      "cell_type": "code",
      "metadata": {
        "id": "BvJtNPpmck5q"
      },
      "source": [
        "from tensorflow.keras import optimizers\n",
        "autoencoder.compile(loss = 'binary_crossentropy',optimizer = tf.keras.optimizers.Adam(lr = 0.001))\n",
        "autoencoder.summary"
      ],
      "execution_count": null,
      "outputs": []
    },
    {
      "cell_type": "markdown",
      "metadata": {
        "id": "ovfXiM48qBDF"
      },
      "source": [
        "# Traning the Model \n",
        "\n",
        "---\n",
        "\n"
      ]
    },
    {
      "cell_type": "code",
      "metadata": {
        "id": "QLV3_TWxcmKF"
      },
      "source": [
        "autoencoder.fit(noise_train_data.reshape(-1,28,28,1),X_train.reshape(-1,28,28,1),\n",
        "               epochs = 10,\n",
        "               batch_size = 200)"
      ],
      "execution_count": null,
      "outputs": []
    },
    {
      "cell_type": "markdown",
      "metadata": {
        "id": "fUuhv2IrqWfy"
      },
      "source": [
        "# Making Predictions\n",
        "\n",
        "---\n",
        "\n"
      ]
    },
    {
      "cell_type": "code",
      "metadata": {
        "id": "kSz6oTQzuM5b"
      },
      "source": [
        "predicted = autoencoder.predict(noise_test_data[:10].reshape(-1,28,28,1))  # 28*28 =784"
      ],
      "execution_count": null,
      "outputs": []
    },
    {
      "cell_type": "code",
      "metadata": {
        "id": "_f0TGq0qsFzW"
      },
      "source": [
        "print(noise_test_data[10].reshape(-1,28,28,1))"
      ],
      "execution_count": null,
      "outputs": []
    },
    {
      "cell_type": "code",
      "metadata": {
        "id": "emwndAh8rYS2"
      },
      "source": [
        "fig,axes = plt.subplots(nrows = 2,ncols = 5,sharex = True,sharey = True,figsize=(10,4))\n",
        "for images,rows in zip([noise_test_data[:10],predicted],axes):\n",
        "    for img, ax in zip (images,rows):\n",
        "        ax.imshow(img.reshape(28,28), cmap = 'Greys_r')\n",
        "        ax.get_xaxis().set_visible(False)\n",
        "        ax.get_yaxis().set_visible(False)"
      ],
      "execution_count": null,
      "outputs": []
    },
    {
      "cell_type": "markdown",
      "metadata": {
        "id": "wztzXq7dqhBs"
      },
      "source": [
        "# Saving Model for Using in the **Web App**\n",
        "---"
      ]
    },
    {
      "cell_type": "code",
      "metadata": {
        "id": "T2sYJVwOn7W0"
      },
      "source": [
        "#!pip install -U -q PyDrive\n",
        "#from pydrive.auth import GoogleAuth\n",
        "#from pydrive.drive import GoogleDrive\n",
        "#from google.colab import auth\n",
        "#from google.colab import drive\n",
        "#from oauth2client.client import GoogleCredentials\n",
        "#\n",
        "## 1. Authenticate and create the PyDrive client.\n",
        "#auth.authenticate_user()\n",
        "#gauth = GoogleAuth()\n",
        "#gauth.credentials = GoogleCredentials.get_application_default()\n",
        "#drive = GoogleDrive(gauth)"
      ],
      "execution_count": null,
      "outputs": []
    },
    {
      "cell_type": "code",
      "metadata": {
        "id": "HxWt4g44Ih4y"
      },
      "source": [
        "#from google.colab import drive\n",
        "#drive.mount('/content/gdrive')"
      ],
      "execution_count": null,
      "outputs": []
    },
    {
      "cell_type": "code",
      "metadata": {
        "id": "6aYqVf7wOK_u"
      },
      "source": [
        "#!ls /content/gdrive/MyDrive"
      ],
      "execution_count": null,
      "outputs": []
    },
    {
      "cell_type": "code",
      "metadata": {
        "id": "3foRyga6S-ug"
      },
      "source": [
        "#drive = GoogleDrive(gauth)\n",
        "#autoencoder.save('autoencoder.h5')    \n",
        "#model_file = drive.CreateFile({'title' : 'autoencoder.h5'})\n",
        "#model_file.SetContentFile('autoencoder.h5')\n",
        "#model_file.Upload()"
      ],
      "execution_count": null,
      "outputs": []
    },
    {
      "cell_type": "code",
      "metadata": {
        "id": "5MU93vzHZneZ"
      },
      "source": [
        "#drive.CreateFile({'id': model_file.get('id')})"
      ],
      "execution_count": null,
      "outputs": []
    },
    {
      "cell_type": "code",
      "metadata": {
        "id": "vFqEqW_1hoi5"
      },
      "source": [
        "#from google.colab import files\n",
        "#files.download(\"autoencoder.h5\")"
      ],
      "execution_count": null,
      "outputs": []
    },
    {
      "cell_type": "code",
      "metadata": {
        "id": "dys3eleXg7Bt"
      },
      "source": [
        "#autoencoder.save_weights('autoencoder_weight.h5')\n",
        "#weights_file = drive.CreateFile({'title' : 'autoencoder_weight.h5'})\n",
        "#weights_file.SetContentFile('autoencoder_weight.h5')\n",
        "#weights_file.Upload()\n",
        "#drive.CreateFile({'id': weights_file.get('id')})"
      ],
      "execution_count": null,
      "outputs": []
    },
    {
      "cell_type": "code",
      "metadata": {
        "id": "modKbJ6ujHCu"
      },
      "source": [
        ""
      ],
      "execution_count": null,
      "outputs": []
    }
  ]
}